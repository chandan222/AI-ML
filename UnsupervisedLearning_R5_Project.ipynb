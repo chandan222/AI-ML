{
 "cells": [
  {
   "cell_type": "code",
   "execution_count": 11,
   "metadata": {},
   "outputs": [],
   "source": [
    "import pandas as pd\n",
    "import numpy as np\n",
    "import os\n",
    "import seaborn as sns\n",
    "import matplotlib.pyplot as plt\n",
    "from sklearn.model_selection import train_test_split\n",
    "from sklearn.preprocessing import StandardScaler\n",
    "from sklearn.cluster import KMeans\n",
    "from sklearn.metrics import accuracy_score\n",
    "from sklearn.metrics import confusion_matrix\n",
    "from sklearn.decomposition import PCA\n"
   ]
  },
  {
   "cell_type": "code",
   "execution_count": 3,
   "metadata": {},
   "outputs": [],
   "source": [
    "# Read the dataset and understand the features and target variable.\n",
    "data=pd.read_csv('Qualitative_Bankruptcy.data.txt',names=['Industrial Risk','Management Risk','Financial Flexibility','Credibility','Competitiveness','Operating Risk','Class'])"
   ]
  },
  {
   "cell_type": "code",
   "execution_count": 6,
   "metadata": {},
   "outputs": [
    {
     "data": {
      "text/html": [
       "<div>\n",
       "<style scoped>\n",
       "    .dataframe tbody tr th:only-of-type {\n",
       "        vertical-align: middle;\n",
       "    }\n",
       "\n",
       "    .dataframe tbody tr th {\n",
       "        vertical-align: top;\n",
       "    }\n",
       "\n",
       "    .dataframe thead th {\n",
       "        text-align: right;\n",
       "    }\n",
       "</style>\n",
       "<table border=\"1\" class=\"dataframe\">\n",
       "  <thead>\n",
       "    <tr style=\"text-align: right;\">\n",
       "      <th></th>\n",
       "      <th>Industrial Risk</th>\n",
       "      <th>Management Risk</th>\n",
       "      <th>Financial Flexibility</th>\n",
       "      <th>Credibility</th>\n",
       "      <th>Competitiveness</th>\n",
       "      <th>Operating Risk</th>\n",
       "      <th>Class</th>\n",
       "    </tr>\n",
       "  </thead>\n",
       "  <tbody>\n",
       "    <tr>\n",
       "      <th>0</th>\n",
       "      <td>P</td>\n",
       "      <td>P</td>\n",
       "      <td>A</td>\n",
       "      <td>A</td>\n",
       "      <td>A</td>\n",
       "      <td>P</td>\n",
       "      <td>NB</td>\n",
       "    </tr>\n",
       "    <tr>\n",
       "      <th>1</th>\n",
       "      <td>N</td>\n",
       "      <td>N</td>\n",
       "      <td>A</td>\n",
       "      <td>A</td>\n",
       "      <td>A</td>\n",
       "      <td>N</td>\n",
       "      <td>NB</td>\n",
       "    </tr>\n",
       "    <tr>\n",
       "      <th>2</th>\n",
       "      <td>A</td>\n",
       "      <td>A</td>\n",
       "      <td>A</td>\n",
       "      <td>A</td>\n",
       "      <td>A</td>\n",
       "      <td>A</td>\n",
       "      <td>NB</td>\n",
       "    </tr>\n",
       "    <tr>\n",
       "      <th>3</th>\n",
       "      <td>P</td>\n",
       "      <td>P</td>\n",
       "      <td>P</td>\n",
       "      <td>P</td>\n",
       "      <td>P</td>\n",
       "      <td>P</td>\n",
       "      <td>NB</td>\n",
       "    </tr>\n",
       "    <tr>\n",
       "      <th>4</th>\n",
       "      <td>N</td>\n",
       "      <td>N</td>\n",
       "      <td>P</td>\n",
       "      <td>P</td>\n",
       "      <td>P</td>\n",
       "      <td>N</td>\n",
       "      <td>NB</td>\n",
       "    </tr>\n",
       "    <tr>\n",
       "      <th>5</th>\n",
       "      <td>A</td>\n",
       "      <td>A</td>\n",
       "      <td>P</td>\n",
       "      <td>P</td>\n",
       "      <td>P</td>\n",
       "      <td>A</td>\n",
       "      <td>NB</td>\n",
       "    </tr>\n",
       "    <tr>\n",
       "      <th>6</th>\n",
       "      <td>P</td>\n",
       "      <td>P</td>\n",
       "      <td>A</td>\n",
       "      <td>P</td>\n",
       "      <td>P</td>\n",
       "      <td>P</td>\n",
       "      <td>NB</td>\n",
       "    </tr>\n",
       "    <tr>\n",
       "      <th>7</th>\n",
       "      <td>P</td>\n",
       "      <td>P</td>\n",
       "      <td>P</td>\n",
       "      <td>A</td>\n",
       "      <td>A</td>\n",
       "      <td>P</td>\n",
       "      <td>NB</td>\n",
       "    </tr>\n",
       "    <tr>\n",
       "      <th>8</th>\n",
       "      <td>P</td>\n",
       "      <td>P</td>\n",
       "      <td>A</td>\n",
       "      <td>P</td>\n",
       "      <td>A</td>\n",
       "      <td>P</td>\n",
       "      <td>NB</td>\n",
       "    </tr>\n",
       "    <tr>\n",
       "      <th>9</th>\n",
       "      <td>P</td>\n",
       "      <td>P</td>\n",
       "      <td>A</td>\n",
       "      <td>A</td>\n",
       "      <td>P</td>\n",
       "      <td>P</td>\n",
       "      <td>NB</td>\n",
       "    </tr>\n",
       "  </tbody>\n",
       "</table>\n",
       "</div>"
      ],
      "text/plain": [
       "  Industrial Risk Management Risk Financial Flexibility Credibility  \\\n",
       "0               P               P                     A           A   \n",
       "1               N               N                     A           A   \n",
       "2               A               A                     A           A   \n",
       "3               P               P                     P           P   \n",
       "4               N               N                     P           P   \n",
       "5               A               A                     P           P   \n",
       "6               P               P                     A           P   \n",
       "7               P               P                     P           A   \n",
       "8               P               P                     A           P   \n",
       "9               P               P                     A           A   \n",
       "\n",
       "  Competitiveness Operating Risk Class  \n",
       "0               A              P    NB  \n",
       "1               A              N    NB  \n",
       "2               A              A    NB  \n",
       "3               P              P    NB  \n",
       "4               P              N    NB  \n",
       "5               P              A    NB  \n",
       "6               P              P    NB  \n",
       "7               A              P    NB  \n",
       "8               A              P    NB  \n",
       "9               P              P    NB  "
      ]
     },
     "execution_count": 6,
     "metadata": {},
     "output_type": "execute_result"
    }
   ],
   "source": [
    "data.head(10)"
   ]
  },
  {
   "cell_type": "markdown",
   "metadata": {},
   "source": [
    "Caanot proceed with the label Encoding because they are encoded alphabeltically and this will effect in dimensionality reductions"
   ]
  },
  {
   "cell_type": "code",
   "execution_count": 7,
   "metadata": {},
   "outputs": [],
   "source": [
    "X=data.drop('Class',axis=1)\n",
    "Y=data['Class']"
   ]
  },
  {
   "cell_type": "code",
   "execution_count": 8,
   "metadata": {},
   "outputs": [],
   "source": [
    "# Encoding the independent features. \n",
    "label={'P':0,'A':1,'N':2}\n",
    "for cols in X.columns:\n",
    "    X[cols]=X[cols].map(label)"
   ]
  },
  {
   "cell_type": "code",
   "execution_count": 9,
   "metadata": {},
   "outputs": [
    {
     "data": {
      "text/html": [
       "<div>\n",
       "<style scoped>\n",
       "    .dataframe tbody tr th:only-of-type {\n",
       "        vertical-align: middle;\n",
       "    }\n",
       "\n",
       "    .dataframe tbody tr th {\n",
       "        vertical-align: top;\n",
       "    }\n",
       "\n",
       "    .dataframe thead th {\n",
       "        text-align: right;\n",
       "    }\n",
       "</style>\n",
       "<table border=\"1\" class=\"dataframe\">\n",
       "  <thead>\n",
       "    <tr style=\"text-align: right;\">\n",
       "      <th></th>\n",
       "      <th>Industrial Risk</th>\n",
       "      <th>Management Risk</th>\n",
       "      <th>Financial Flexibility</th>\n",
       "      <th>Credibility</th>\n",
       "      <th>Competitiveness</th>\n",
       "      <th>Operating Risk</th>\n",
       "    </tr>\n",
       "  </thead>\n",
       "  <tbody>\n",
       "    <tr>\n",
       "      <th>0</th>\n",
       "      <td>0</td>\n",
       "      <td>0</td>\n",
       "      <td>1</td>\n",
       "      <td>1</td>\n",
       "      <td>1</td>\n",
       "      <td>0</td>\n",
       "    </tr>\n",
       "    <tr>\n",
       "      <th>1</th>\n",
       "      <td>2</td>\n",
       "      <td>2</td>\n",
       "      <td>1</td>\n",
       "      <td>1</td>\n",
       "      <td>1</td>\n",
       "      <td>2</td>\n",
       "    </tr>\n",
       "    <tr>\n",
       "      <th>2</th>\n",
       "      <td>1</td>\n",
       "      <td>1</td>\n",
       "      <td>1</td>\n",
       "      <td>1</td>\n",
       "      <td>1</td>\n",
       "      <td>1</td>\n",
       "    </tr>\n",
       "    <tr>\n",
       "      <th>3</th>\n",
       "      <td>0</td>\n",
       "      <td>0</td>\n",
       "      <td>0</td>\n",
       "      <td>0</td>\n",
       "      <td>0</td>\n",
       "      <td>0</td>\n",
       "    </tr>\n",
       "    <tr>\n",
       "      <th>4</th>\n",
       "      <td>2</td>\n",
       "      <td>2</td>\n",
       "      <td>0</td>\n",
       "      <td>0</td>\n",
       "      <td>0</td>\n",
       "      <td>2</td>\n",
       "    </tr>\n",
       "  </tbody>\n",
       "</table>\n",
       "</div>"
      ],
      "text/plain": [
       "   Industrial Risk  Management Risk  Financial Flexibility  Credibility  \\\n",
       "0                0                0                      1            1   \n",
       "1                2                2                      1            1   \n",
       "2                1                1                      1            1   \n",
       "3                0                0                      0            0   \n",
       "4                2                2                      0            0   \n",
       "\n",
       "   Competitiveness  Operating Risk  \n",
       "0                1               0  \n",
       "1                1               2  \n",
       "2                1               1  \n",
       "3                0               0  \n",
       "4                0               2  "
      ]
     },
     "execution_count": 9,
     "metadata": {},
     "output_type": "execute_result"
    }
   ],
   "source": [
    "X.head()"
   ]
  },
  {
   "cell_type": "code",
   "execution_count": 10,
   "metadata": {},
   "outputs": [],
   "source": [
    "# according to the 3 and 4\n",
    "X_train,X_test,Y_train,Y_test=train_test_split(X,Y,test_size=0.20,random_state=7)"
   ]
  },
  {
   "cell_type": "markdown",
   "metadata": {},
   "source": [
    "# Apply PCA"
   ]
  },
  {
   "cell_type": "code",
   "execution_count": 12,
   "metadata": {},
   "outputs": [],
   "source": [
    "#Apply PCA on the independent features of training data\n",
    "\n",
    "pca=PCA(n_components=6)\n",
    "newData=pca.fit_transform(X_train)\n",
    "eigenvalues=pca.explained_variance_\n",
    "var_explained=pca.explained_variance_ratio_*100\n",
    "cum_var_explained=np.cumsum(var_explained)\n"
   ]
  },
  {
   "cell_type": "code",
   "execution_count": 13,
   "metadata": {},
   "outputs": [
    {
     "data": {
      "image/png": "[encoded data removed]",
      "text/plain": [
       "<Figure size 432x288 with 1 Axes>"
      ]
     },
     "metadata": {
      "needs_background": "light"
     },
     "output_type": "display_data"
    }
   ],
   "source": [
    "plt.bar(range(1,eigenvalues.size+1), var_explained, alpha=0.5, align='center', label='individual explained variance')\n",
    "plt.step(range(1,eigenvalues.size+1),cum_var_explained, where= 'mid', label='cumulative explained variance')\n",
    "plt.ylabel('Explained variance ratio')\n",
    "plt.xlabel('Principal components')\n",
    "plt.legend(loc = 'best')\n",
    "plt.show()"
   ]
  },
  {
   "cell_type": "markdown",
   "metadata": {},
   "source": [
    "So From Above transformation we can remove the 6th Dimension "
   ]
  },
  {
   "cell_type": "code",
   "execution_count": 14,
   "metadata": {},
   "outputs": [],
   "source": [
    "newData_data=pd.DataFrame(newData[:,0:5],columns=['Industrial Risk','Management Risk','Financial Flexibility','Credibility','Competitiveness'])\n"
   ]
  },
  {
   "cell_type": "code",
   "execution_count": 15,
   "metadata": {},
   "outputs": [
    {
     "data": {
      "text/html": [
       "<div>\n",
       "<style scoped>\n",
       "    .dataframe tbody tr th:only-of-type {\n",
       "        vertical-align: middle;\n",
       "    }\n",
       "\n",
       "    .dataframe tbody tr th {\n",
       "        vertical-align: top;\n",
       "    }\n",
       "\n",
       "    .dataframe thead th {\n",
       "        text-align: right;\n",
       "    }\n",
       "</style>\n",
       "<table border=\"1\" class=\"dataframe\">\n",
       "  <thead>\n",
       "    <tr style=\"text-align: right;\">\n",
       "      <th></th>\n",
       "      <th>Industrial Risk</th>\n",
       "      <th>Management Risk</th>\n",
       "      <th>Financial Flexibility</th>\n",
       "      <th>Credibility</th>\n",
       "      <th>Competitiveness</th>\n",
       "    </tr>\n",
       "  </thead>\n",
       "  <tbody>\n",
       "    <tr>\n",
       "      <th>0</th>\n",
       "      <td>-1.223126</td>\n",
       "      <td>0.304928</td>\n",
       "      <td>0.956338</td>\n",
       "      <td>0.269503</td>\n",
       "      <td>0.308470</td>\n",
       "    </tr>\n",
       "    <tr>\n",
       "      <th>1</th>\n",
       "      <td>-0.405467</td>\n",
       "      <td>1.404534</td>\n",
       "      <td>0.148489</td>\n",
       "      <td>-0.168602</td>\n",
       "      <td>-0.123973</td>\n",
       "    </tr>\n",
       "    <tr>\n",
       "      <th>2</th>\n",
       "      <td>1.876272</td>\n",
       "      <td>0.663396</td>\n",
       "      <td>-1.105121</td>\n",
       "      <td>-0.717300</td>\n",
       "      <td>0.235651</td>\n",
       "    </tr>\n",
       "    <tr>\n",
       "      <th>3</th>\n",
       "      <td>0.669998</td>\n",
       "      <td>1.850374</td>\n",
       "      <td>0.358301</td>\n",
       "      <td>-0.216804</td>\n",
       "      <td>0.591803</td>\n",
       "    </tr>\n",
       "    <tr>\n",
       "      <th>4</th>\n",
       "      <td>-1.743723</td>\n",
       "      <td>0.120150</td>\n",
       "      <td>-0.480130</td>\n",
       "      <td>-0.478199</td>\n",
       "      <td>0.106607</td>\n",
       "    </tr>\n",
       "    <tr>\n",
       "      <th>5</th>\n",
       "      <td>-1.181123</td>\n",
       "      <td>-0.898487</td>\n",
       "      <td>0.988300</td>\n",
       "      <td>0.864807</td>\n",
       "      <td>-0.612481</td>\n",
       "    </tr>\n",
       "    <tr>\n",
       "      <th>6</th>\n",
       "      <td>1.390247</td>\n",
       "      <td>-0.822452</td>\n",
       "      <td>0.456104</td>\n",
       "      <td>1.044413</td>\n",
       "      <td>0.130016</td>\n",
       "    </tr>\n",
       "    <tr>\n",
       "      <th>7</th>\n",
       "      <td>1.402776</td>\n",
       "      <td>0.392771</td>\n",
       "      <td>-1.043790</td>\n",
       "      <td>-0.534472</td>\n",
       "      <td>0.945189</td>\n",
       "    </tr>\n",
       "    <tr>\n",
       "      <th>8</th>\n",
       "      <td>1.131928</td>\n",
       "      <td>0.585584</td>\n",
       "      <td>1.788408</td>\n",
       "      <td>-0.178007</td>\n",
       "      <td>0.229781</td>\n",
       "    </tr>\n",
       "    <tr>\n",
       "      <th>9</th>\n",
       "      <td>-1.954426</td>\n",
       "      <td>0.688069</td>\n",
       "      <td>0.000008</td>\n",
       "      <td>0.062427</td>\n",
       "      <td>-0.130211</td>\n",
       "    </tr>\n",
       "  </tbody>\n",
       "</table>\n",
       "</div>"
      ],
      "text/plain": [
       "   Industrial Risk  Management Risk  Financial Flexibility  Credibility  \\\n",
       "0        -1.223126         0.304928               0.956338     0.269503   \n",
       "1        -0.405467         1.404534               0.148489    -0.168602   \n",
       "2         1.876272         0.663396              -1.105121    -0.717300   \n",
       "3         0.669998         1.850374               0.358301    -0.216804   \n",
       "4        -1.743723         0.120150              -0.480130    -0.478199   \n",
       "5        -1.181123        -0.898487               0.988300     0.864807   \n",
       "6         1.390247        -0.822452               0.456104     1.044413   \n",
       "7         1.402776         0.392771              -1.043790    -0.534472   \n",
       "8         1.131928         0.585584               1.788408    -0.178007   \n",
       "9        -1.954426         0.688069               0.000008     0.062427   \n",
       "\n",
       "   Competitiveness  \n",
       "0         0.308470  \n",
       "1        -0.123973  \n",
       "2         0.235651  \n",
       "3         0.591803  \n",
       "4         0.106607  \n",
       "5        -0.612481  \n",
       "6         0.130016  \n",
       "7         0.945189  \n",
       "8         0.229781  \n",
       "9        -0.130211  "
      ]
     },
     "execution_count": 15,
     "metadata": {},
     "output_type": "execute_result"
    }
   ],
   "source": [
    "newData_data.head(10)"
   ]
  },
  {
   "cell_type": "code",
   "execution_count": 16,
   "metadata": {},
   "outputs": [
    {
     "data": {
      "text/plain": [
       "[<matplotlib.lines.Line2D at 0x14a62f8>]"
      ]
     },
     "execution_count": 16,
     "metadata": {},
     "output_type": "execute_result"
    },
    {
     "data": {
      "image/png": "[encoded data removed]",
      "text/plain": [
       "<Figure size 432x288 with 1 Axes>"
      ]
     },
     "metadata": {
      "needs_background": "light"
     },
     "output_type": "display_data"
    }
   ],
   "source": [
    "#6.\tDisplay elbow plot to find out reduced number of dimensions \n",
    "plt.plot(var_explained)"
   ]
  },
  {
   "cell_type": "markdown",
   "metadata": {},
   "source": [
    "# Again Applying PCA for previously transformed Data"
   ]
  },
  {
   "cell_type": "code",
   "execution_count": 18,
   "metadata": {},
   "outputs": [],
   "source": [
    "\n",
    "pca=PCA(n_components=5)\n",
    "newData1=pca.fit_transform(newData_data)\n",
    "eigenvalues_new=pca.explained_variance_\n",
    "var_explained_new=pca.explained_variance_ratio_*100\n",
    "cum_var_explained_new=np.cumsum(var_explained_new)"
   ]
  },
  {
   "cell_type": "code",
   "execution_count": 19,
   "metadata": {},
   "outputs": [
    {
     "data": {
      "image/png": "[encoded data removed]",
      "text/plain": [
       "<Figure size 432x288 with 1 Axes>"
      ]
     },
     "metadata": {
      "needs_background": "light"
     },
     "output_type": "display_data"
    }
   ],
   "source": [
    "plt.bar(range(1,eigenvalues_new.size+1), var_explained_new, alpha=0.5, align='center', label='individual explained variance')\n",
    "plt.step(range(1,eigenvalues_new.size+1),cum_var_explained_new, where= 'mid', label='cumulative explained variance')\n",
    "plt.ylabel('Explained variance ratio')\n",
    "plt.xlabel('Principal components')\n",
    "plt.legend(loc = 'best')\n",
    "plt.show()"
   ]
  },
  {
   "cell_type": "code",
   "execution_count": 20,
   "metadata": {},
   "outputs": [],
   "source": [
    "new_data=pd.DataFrame(newData1,columns=['Industrial Risk','Management Risk','Financial Flexibility','Credibility','Competitiveness'])\n"
   ]
  },
  {
   "cell_type": "markdown",
   "metadata": {},
   "source": [
    "Now Consodering 5 PCs after overall transformation"
   ]
  },
  {
   "cell_type": "code",
   "execution_count": 22,
   "metadata": {},
   "outputs": [
    {
     "data": {
      "text/plain": [
       "[<matplotlib.lines.Line2D at 0x1692bc8>]"
      ]
     },
     "execution_count": 22,
     "metadata": {},
     "output_type": "execute_result"
    },
    {
     "data": {
      "image/png": "[encoded data removed]",
      "text/plain": [
       "<Figure size 864x432 with 1 Axes>"
      ]
     },
     "metadata": {
      "needs_background": "light"
     },
     "output_type": "display_data"
    }
   ],
   "source": [
    "# according to 8 and 9\n",
    "#Applying KMeans Clustering Algorithm.\n",
    "#First Applying Elbow Technique to decide number of clusters\n",
    "cluster_range = range( 1,9)   \n",
    "cluster_errors = []\n",
    "for num_clusters in cluster_range:\n",
    "  clusters = KMeans(num_clusters, n_init = 5)\n",
    "  clusters.fit(new_data)\n",
    "  labels = clusters.labels_\n",
    "  centroids = clusters.cluster_centers_\n",
    "  cluster_errors.append( clusters.inertia_ )\n",
    "clusters_df = pd.DataFrame( { \"num_clusters\":cluster_range, \"cluster_errors\": cluster_errors } )\n",
    "plt.figure(figsize=(12,6))\n",
    "plt.plot( clusters_df.num_clusters, clusters_df.cluster_errors, marker = \"o\" )"
   ]
  },
  {
   "cell_type": "code",
   "execution_count": 23,
   "metadata": {},
   "outputs": [
    {
     "data": {
      "text/plain": [
       "KMeans(n_clusters=4, random_state=1)"
      ]
     },
     "execution_count": 23,
     "metadata": {},
     "output_type": "execute_result"
    }
   ],
   "source": [
    "\n",
    "#Apply KMeans CLustering by taking 4 clusters\n",
    "cluster_ = KMeans( n_clusters = 4, random_state = 1 )\n",
    "cluster_.fit(new_data)"
   ]
  },
  {
   "cell_type": "code",
   "execution_count": 24,
   "metadata": {},
   "outputs": [
    {
     "data": {
      "text/plain": [
       "array([2, 0, 0, 0, 1, 2, 3, 0, 0, 1, 3, 2, 0, 0, 3, 0, 3, 0, 1, 2, 0, 0,\n",
       "       0, 2, 3, 1, 3, 1, 3, 0, 2, 3, 0, 0, 0, 0, 1, 0, 3, 0, 1, 3, 2, 3,\n",
       "       1, 0, 2, 1, 2, 3, 3, 1, 2, 2, 1, 0, 2, 1, 1, 0, 3, 1, 2, 3, 1, 0,\n",
       "       0, 1, 0, 1, 0, 3, 1, 3, 1, 1, 3, 1, 2, 0, 0, 1, 1, 1, 3, 3, 0, 3,\n",
       "       0, 3, 1, 0, 0, 1, 3, 1, 0, 2, 0, 0, 0, 1, 2, 1, 3, 2, 3, 1, 0, 0,\n",
       "       0, 1, 3, 0, 1, 1, 0, 2, 2, 0, 0, 1, 3, 2, 1, 1, 2, 0, 1, 2, 0, 2,\n",
       "       1, 2, 2, 3, 0, 3, 1, 3, 2, 1, 3, 2, 3, 1, 1, 0, 1, 3, 1, 1, 2, 0,\n",
       "       0, 0, 2, 2, 0, 1, 1, 0, 2, 2, 1, 3, 0, 1, 0, 1, 0, 3, 3, 0, 3, 1,\n",
       "       0, 0, 1, 0, 1, 2, 3, 2, 0, 0, 0, 3, 0, 0, 2, 0, 3, 2, 1, 0, 1, 3,\n",
       "       1, 1])"
      ]
     },
     "execution_count": 24,
     "metadata": {},
     "output_type": "execute_result"
    }
   ],
   "source": [
    "cluster_.labels_"
   ]
  },
  {
   "cell_type": "code",
   "execution_count": 26,
   "metadata": {},
   "outputs": [
    {
     "data": {
      "text/html": [
       "<div>\n",
       "<style scoped>\n",
       "    .dataframe tbody tr th:only-of-type {\n",
       "        vertical-align: middle;\n",
       "    }\n",
       "\n",
       "    .dataframe tbody tr th {\n",
       "        vertical-align: top;\n",
       "    }\n",
       "\n",
       "    .dataframe thead th {\n",
       "        text-align: right;\n",
       "    }\n",
       "</style>\n",
       "<table border=\"1\" class=\"dataframe\">\n",
       "  <thead>\n",
       "    <tr style=\"text-align: right;\">\n",
       "      <th></th>\n",
       "      <th>Industrial Risk</th>\n",
       "      <th>Management Risk</th>\n",
       "      <th>Financial Flexibility</th>\n",
       "      <th>Credibility</th>\n",
       "      <th>Competitiveness</th>\n",
       "      <th>Cluster</th>\n",
       "    </tr>\n",
       "  </thead>\n",
       "  <tbody>\n",
       "    <tr>\n",
       "      <th>0</th>\n",
       "      <td>-1.223126</td>\n",
       "      <td>0.304928</td>\n",
       "      <td>0.956338</td>\n",
       "      <td>0.269503</td>\n",
       "      <td>0.308470</td>\n",
       "      <td>2</td>\n",
       "    </tr>\n",
       "    <tr>\n",
       "      <th>1</th>\n",
       "      <td>-0.405467</td>\n",
       "      <td>1.404534</td>\n",
       "      <td>0.148489</td>\n",
       "      <td>-0.168602</td>\n",
       "      <td>-0.123973</td>\n",
       "      <td>0</td>\n",
       "    </tr>\n",
       "    <tr>\n",
       "      <th>2</th>\n",
       "      <td>1.876272</td>\n",
       "      <td>0.663396</td>\n",
       "      <td>-1.105121</td>\n",
       "      <td>-0.717300</td>\n",
       "      <td>0.235651</td>\n",
       "      <td>0</td>\n",
       "    </tr>\n",
       "    <tr>\n",
       "      <th>3</th>\n",
       "      <td>0.669998</td>\n",
       "      <td>1.850374</td>\n",
       "      <td>0.358301</td>\n",
       "      <td>-0.216804</td>\n",
       "      <td>0.591803</td>\n",
       "      <td>0</td>\n",
       "    </tr>\n",
       "    <tr>\n",
       "      <th>4</th>\n",
       "      <td>-1.743723</td>\n",
       "      <td>0.120150</td>\n",
       "      <td>-0.480130</td>\n",
       "      <td>-0.478199</td>\n",
       "      <td>0.106607</td>\n",
       "      <td>1</td>\n",
       "    </tr>\n",
       "    <tr>\n",
       "      <th>5</th>\n",
       "      <td>-1.181123</td>\n",
       "      <td>-0.898487</td>\n",
       "      <td>0.988300</td>\n",
       "      <td>0.864807</td>\n",
       "      <td>-0.612481</td>\n",
       "      <td>2</td>\n",
       "    </tr>\n",
       "    <tr>\n",
       "      <th>6</th>\n",
       "      <td>1.390247</td>\n",
       "      <td>-0.822452</td>\n",
       "      <td>0.456104</td>\n",
       "      <td>1.044413</td>\n",
       "      <td>0.130016</td>\n",
       "      <td>3</td>\n",
       "    </tr>\n",
       "    <tr>\n",
       "      <th>7</th>\n",
       "      <td>1.402776</td>\n",
       "      <td>0.392771</td>\n",
       "      <td>-1.043790</td>\n",
       "      <td>-0.534472</td>\n",
       "      <td>0.945189</td>\n",
       "      <td>0</td>\n",
       "    </tr>\n",
       "    <tr>\n",
       "      <th>8</th>\n",
       "      <td>1.131928</td>\n",
       "      <td>0.585584</td>\n",
       "      <td>1.788408</td>\n",
       "      <td>-0.178007</td>\n",
       "      <td>0.229781</td>\n",
       "      <td>0</td>\n",
       "    </tr>\n",
       "    <tr>\n",
       "      <th>9</th>\n",
       "      <td>-1.954426</td>\n",
       "      <td>0.688069</td>\n",
       "      <td>0.000008</td>\n",
       "      <td>0.062427</td>\n",
       "      <td>-0.130211</td>\n",
       "      <td>1</td>\n",
       "    </tr>\n",
       "  </tbody>\n",
       "</table>\n",
       "</div>"
      ],
      "text/plain": [
       "   Industrial Risk  Management Risk  Financial Flexibility  Credibility  \\\n",
       "0        -1.223126         0.304928               0.956338     0.269503   \n",
       "1        -0.405467         1.404534               0.148489    -0.168602   \n",
       "2         1.876272         0.663396              -1.105121    -0.717300   \n",
       "3         0.669998         1.850374               0.358301    -0.216804   \n",
       "4        -1.743723         0.120150              -0.480130    -0.478199   \n",
       "5        -1.181123        -0.898487               0.988300     0.864807   \n",
       "6         1.390247        -0.822452               0.456104     1.044413   \n",
       "7         1.402776         0.392771              -1.043790    -0.534472   \n",
       "8         1.131928         0.585584               1.788408    -0.178007   \n",
       "9        -1.954426         0.688069               0.000008     0.062427   \n",
       "\n",
       "   Competitiveness  Cluster  \n",
       "0         0.308470        2  \n",
       "1        -0.123973        0  \n",
       "2         0.235651        0  \n",
       "3         0.591803        0  \n",
       "4         0.106607        1  \n",
       "5        -0.612481        2  \n",
       "6         0.130016        3  \n",
       "7         0.945189        0  \n",
       "8         0.229781        0  \n",
       "9        -0.130211        1  "
      ]
     },
     "execution_count": 26,
     "metadata": {},
     "output_type": "execute_result"
    }
   ],
   "source": [
    "# 10th ques\n",
    "#Creating the new Cluster Column in the Train Data Set\n",
    "new_data['Cluster']=cluster_.labels_\n",
    "new_data.head(10)"
   ]
  },
  {
   "cell_type": "code",
   "execution_count": 28,
   "metadata": {},
   "outputs": [],
   "source": [
    "# 11 th ques\n",
    "pca=PCA(n_components=6)\n",
    "newTestData=pca.fit_transform(X_test)\n",
    "eigenvalues_test=pca.explained_variance_\n",
    "var_explained_test=pca.explained_variance_ratio_*100\n",
    "cum_var_explained_test=np.cumsum(var_explained_test)"
   ]
  },
  {
   "cell_type": "code",
   "execution_count": 29,
   "metadata": {},
   "outputs": [
    {
     "data": {
      "image/png": "[encoded data removed]",
      "text/plain": [
       "<Figure size 432x288 with 1 Axes>"
      ]
     },
     "metadata": {
      "needs_background": "light"
     },
     "output_type": "display_data"
    }
   ],
   "source": [
    "plt.bar(range(1,eigenvalues_test.size+1), var_explained_test, alpha=0.5, align='center', label='individual explained variance')\n",
    "plt.step(range(1,eigenvalues_test.size+1),cum_var_explained_test, where= 'mid', label='cumulative explained variance')\n",
    "plt.ylabel('Explained variance ratio')\n",
    "plt.xlabel('Principal components')\n",
    "plt.legend(loc = 'best')\n",
    "plt.show()"
   ]
  },
  {
   "cell_type": "markdown",
   "metadata": {},
   "source": [
    "As in the training data selecting the same 5 variables as there is around 95% Contributon from Firdt 5 PCs"
   ]
  },
  {
   "cell_type": "code",
   "execution_count": 32,
   "metadata": {},
   "outputs": [],
   "source": [
    "data2=pd.DataFrame(newTestData[:,0:5],columns=['Industrial Risk','Management Risk','Financial Flexibility','Credibility','Competitiveness'])\n"
   ]
  },
  {
   "cell_type": "code",
   "execution_count": 33,
   "metadata": {},
   "outputs": [
    {
     "data": {
      "text/html": [
       "<div>\n",
       "<style scoped>\n",
       "    .dataframe tbody tr th:only-of-type {\n",
       "        vertical-align: middle;\n",
       "    }\n",
       "\n",
       "    .dataframe tbody tr th {\n",
       "        vertical-align: top;\n",
       "    }\n",
       "\n",
       "    .dataframe thead th {\n",
       "        text-align: right;\n",
       "    }\n",
       "</style>\n",
       "<table border=\"1\" class=\"dataframe\">\n",
       "  <thead>\n",
       "    <tr style=\"text-align: right;\">\n",
       "      <th></th>\n",
       "      <th>Industrial Risk</th>\n",
       "      <th>Management Risk</th>\n",
       "      <th>Financial Flexibility</th>\n",
       "      <th>Credibility</th>\n",
       "      <th>Competitiveness</th>\n",
       "    </tr>\n",
       "  </thead>\n",
       "  <tbody>\n",
       "    <tr>\n",
       "      <th>0</th>\n",
       "      <td>-1.322622</td>\n",
       "      <td>1.457172</td>\n",
       "      <td>0.183590</td>\n",
       "      <td>0.501648</td>\n",
       "      <td>-0.209040</td>\n",
       "    </tr>\n",
       "    <tr>\n",
       "      <th>1</th>\n",
       "      <td>-1.731397</td>\n",
       "      <td>0.089877</td>\n",
       "      <td>-0.496128</td>\n",
       "      <td>-0.355382</td>\n",
       "      <td>0.642819</td>\n",
       "    </tr>\n",
       "    <tr>\n",
       "      <th>2</th>\n",
       "      <td>0.204940</td>\n",
       "      <td>-1.655524</td>\n",
       "      <td>0.505838</td>\n",
       "      <td>-0.947957</td>\n",
       "      <td>-0.007803</td>\n",
       "    </tr>\n",
       "    <tr>\n",
       "      <th>3</th>\n",
       "      <td>0.899651</td>\n",
       "      <td>0.787151</td>\n",
       "      <td>-0.919904</td>\n",
       "      <td>-0.627663</td>\n",
       "      <td>0.061843</td>\n",
       "    </tr>\n",
       "    <tr>\n",
       "      <th>4</th>\n",
       "      <td>2.400747</td>\n",
       "      <td>-0.316567</td>\n",
       "      <td>-0.448018</td>\n",
       "      <td>-0.254252</td>\n",
       "      <td>-0.154793</td>\n",
       "    </tr>\n",
       "    <tr>\n",
       "      <th>5</th>\n",
       "      <td>-0.494158</td>\n",
       "      <td>0.253394</td>\n",
       "      <td>1.824682</td>\n",
       "      <td>-0.571488</td>\n",
       "      <td>-0.319074</td>\n",
       "    </tr>\n",
       "    <tr>\n",
       "      <th>6</th>\n",
       "      <td>0.788081</td>\n",
       "      <td>-1.062491</td>\n",
       "      <td>0.529980</td>\n",
       "      <td>0.729362</td>\n",
       "      <td>0.801254</td>\n",
       "    </tr>\n",
       "    <tr>\n",
       "      <th>7</th>\n",
       "      <td>-1.985708</td>\n",
       "      <td>-0.771405</td>\n",
       "      <td>-0.553717</td>\n",
       "      <td>0.407388</td>\n",
       "      <td>-0.137061</td>\n",
       "    </tr>\n",
       "    <tr>\n",
       "      <th>8</th>\n",
       "      <td>0.770354</td>\n",
       "      <td>-1.387048</td>\n",
       "      <td>1.384480</td>\n",
       "      <td>0.647028</td>\n",
       "      <td>-0.257167</td>\n",
       "    </tr>\n",
       "    <tr>\n",
       "      <th>9</th>\n",
       "      <td>-0.382412</td>\n",
       "      <td>0.679496</td>\n",
       "      <td>1.629315</td>\n",
       "      <td>0.562929</td>\n",
       "      <td>0.303017</td>\n",
       "    </tr>\n",
       "  </tbody>\n",
       "</table>\n",
       "</div>"
      ],
      "text/plain": [
       "   Industrial Risk  Management Risk  Financial Flexibility  Credibility  \\\n",
       "0        -1.322622         1.457172               0.183590     0.501648   \n",
       "1        -1.731397         0.089877              -0.496128    -0.355382   \n",
       "2         0.204940        -1.655524               0.505838    -0.947957   \n",
       "3         0.899651         0.787151              -0.919904    -0.627663   \n",
       "4         2.400747        -0.316567              -0.448018    -0.254252   \n",
       "5        -0.494158         0.253394               1.824682    -0.571488   \n",
       "6         0.788081        -1.062491               0.529980     0.729362   \n",
       "7        -1.985708        -0.771405              -0.553717     0.407388   \n",
       "8         0.770354        -1.387048               1.384480     0.647028   \n",
       "9        -0.382412         0.679496               1.629315     0.562929   \n",
       "\n",
       "   Competitiveness  \n",
       "0        -0.209040  \n",
       "1         0.642819  \n",
       "2        -0.007803  \n",
       "3         0.061843  \n",
       "4        -0.154793  \n",
       "5        -0.319074  \n",
       "6         0.801254  \n",
       "7        -0.137061  \n",
       "8        -0.257167  \n",
       "9         0.303017  "
      ]
     },
     "execution_count": 33,
     "metadata": {},
     "output_type": "execute_result"
    }
   ],
   "source": [
    "data2.head(10)"
   ]
  },
  {
   "cell_type": "code",
   "execution_count": 34,
   "metadata": {},
   "outputs": [
    {
     "data": {
      "text/plain": [
       "[<matplotlib.lines.Line2D at 0x1722ad8>]"
      ]
     },
     "execution_count": 34,
     "metadata": {},
     "output_type": "execute_result"
    },
    {
     "data": {
      "image/png": "[encoded data removed]",
      "text/plain": [
       "<Figure size 864x432 with 1 Axes>"
      ]
     },
     "metadata": {
      "needs_background": "light"
     },
     "output_type": "display_data"
    }
   ],
   "source": [
    "#12 th ques\n",
    "#Applying Elbow Technique to decide number of clusters\n",
    "cluster_range = range( 1,9)   \n",
    "cluster_errors = []\n",
    "for num_clusters in cluster_range:\n",
    "  clusters = KMeans(num_clusters, n_init = 5)\n",
    "  clusters.fit(data2)\n",
    "  labels = clusters.labels_\n",
    "  centroids = clusters.cluster_centers_\n",
    "  cluster_errors.append( clusters.inertia_ )\n",
    "clusters_df = pd.DataFrame( { \"num_clusters\":cluster_range, \"cluster_errors\": cluster_errors } )\n",
    "plt.figure(figsize=(12,6))\n",
    "plt.plot( clusters_df.num_clusters, clusters_df.cluster_errors, marker = \"o\" )"
   ]
  },
  {
   "cell_type": "code",
   "execution_count": 36,
   "metadata": {},
   "outputs": [
    {
     "data": {
      "text/plain": [
       "KMeans(n_clusters=4, random_state=1)"
      ]
     },
     "execution_count": 36,
     "metadata": {},
     "output_type": "execute_result"
    }
   ],
   "source": [
    "#Applying K Mean by taking 4 clusters\n",
    "clus = KMeans( n_clusters = 4, random_state = 1 )\n",
    "clus.fit(data2)"
   ]
  },
  {
   "cell_type": "code",
   "execution_count": 37,
   "metadata": {},
   "outputs": [
    {
     "data": {
      "text/html": [
       "<div>\n",
       "<style scoped>\n",
       "    .dataframe tbody tr th:only-of-type {\n",
       "        vertical-align: middle;\n",
       "    }\n",
       "\n",
       "    .dataframe tbody tr th {\n",
       "        vertical-align: top;\n",
       "    }\n",
       "\n",
       "    .dataframe thead th {\n",
       "        text-align: right;\n",
       "    }\n",
       "</style>\n",
       "<table border=\"1\" class=\"dataframe\">\n",
       "  <thead>\n",
       "    <tr style=\"text-align: right;\">\n",
       "      <th></th>\n",
       "      <th>Industrial Risk</th>\n",
       "      <th>Management Risk</th>\n",
       "      <th>Financial Flexibility</th>\n",
       "      <th>Credibility</th>\n",
       "      <th>Competitiveness</th>\n",
       "      <th>Cluster</th>\n",
       "    </tr>\n",
       "  </thead>\n",
       "  <tbody>\n",
       "    <tr>\n",
       "      <th>0</th>\n",
       "      <td>-1.322622</td>\n",
       "      <td>1.457172</td>\n",
       "      <td>0.183590</td>\n",
       "      <td>0.501648</td>\n",
       "      <td>-0.209040</td>\n",
       "      <td>3</td>\n",
       "    </tr>\n",
       "    <tr>\n",
       "      <th>1</th>\n",
       "      <td>-1.731397</td>\n",
       "      <td>0.089877</td>\n",
       "      <td>-0.496128</td>\n",
       "      <td>-0.355382</td>\n",
       "      <td>0.642819</td>\n",
       "      <td>1</td>\n",
       "    </tr>\n",
       "    <tr>\n",
       "      <th>2</th>\n",
       "      <td>0.204940</td>\n",
       "      <td>-1.655524</td>\n",
       "      <td>0.505838</td>\n",
       "      <td>-0.947957</td>\n",
       "      <td>-0.007803</td>\n",
       "      <td>2</td>\n",
       "    </tr>\n",
       "    <tr>\n",
       "      <th>3</th>\n",
       "      <td>0.899651</td>\n",
       "      <td>0.787151</td>\n",
       "      <td>-0.919904</td>\n",
       "      <td>-0.627663</td>\n",
       "      <td>0.061843</td>\n",
       "      <td>0</td>\n",
       "    </tr>\n",
       "    <tr>\n",
       "      <th>4</th>\n",
       "      <td>2.400747</td>\n",
       "      <td>-0.316567</td>\n",
       "      <td>-0.448018</td>\n",
       "      <td>-0.254252</td>\n",
       "      <td>-0.154793</td>\n",
       "      <td>0</td>\n",
       "    </tr>\n",
       "    <tr>\n",
       "      <th>5</th>\n",
       "      <td>-0.494158</td>\n",
       "      <td>0.253394</td>\n",
       "      <td>1.824682</td>\n",
       "      <td>-0.571488</td>\n",
       "      <td>-0.319074</td>\n",
       "      <td>3</td>\n",
       "    </tr>\n",
       "    <tr>\n",
       "      <th>6</th>\n",
       "      <td>0.788081</td>\n",
       "      <td>-1.062491</td>\n",
       "      <td>0.529980</td>\n",
       "      <td>0.729362</td>\n",
       "      <td>0.801254</td>\n",
       "      <td>2</td>\n",
       "    </tr>\n",
       "    <tr>\n",
       "      <th>7</th>\n",
       "      <td>-1.985708</td>\n",
       "      <td>-0.771405</td>\n",
       "      <td>-0.553717</td>\n",
       "      <td>0.407388</td>\n",
       "      <td>-0.137061</td>\n",
       "      <td>1</td>\n",
       "    </tr>\n",
       "    <tr>\n",
       "      <th>8</th>\n",
       "      <td>0.770354</td>\n",
       "      <td>-1.387048</td>\n",
       "      <td>1.384480</td>\n",
       "      <td>0.647028</td>\n",
       "      <td>-0.257167</td>\n",
       "      <td>2</td>\n",
       "    </tr>\n",
       "    <tr>\n",
       "      <th>9</th>\n",
       "      <td>-0.382412</td>\n",
       "      <td>0.679496</td>\n",
       "      <td>1.629315</td>\n",
       "      <td>0.562929</td>\n",
       "      <td>0.303017</td>\n",
       "      <td>3</td>\n",
       "    </tr>\n",
       "  </tbody>\n",
       "</table>\n",
       "</div>"
      ],
      "text/plain": [
       "   Industrial Risk  Management Risk  Financial Flexibility  Credibility  \\\n",
       "0        -1.322622         1.457172               0.183590     0.501648   \n",
       "1        -1.731397         0.089877              -0.496128    -0.355382   \n",
       "2         0.204940        -1.655524               0.505838    -0.947957   \n",
       "3         0.899651         0.787151              -0.919904    -0.627663   \n",
       "4         2.400747        -0.316567              -0.448018    -0.254252   \n",
       "5        -0.494158         0.253394               1.824682    -0.571488   \n",
       "6         0.788081        -1.062491               0.529980     0.729362   \n",
       "7        -1.985708        -0.771405              -0.553717     0.407388   \n",
       "8         0.770354        -1.387048               1.384480     0.647028   \n",
       "9        -0.382412         0.679496               1.629315     0.562929   \n",
       "\n",
       "   Competitiveness  Cluster  \n",
       "0        -0.209040        3  \n",
       "1         0.642819        1  \n",
       "2        -0.007803        2  \n",
       "3         0.061843        0  \n",
       "4        -0.154793        0  \n",
       "5        -0.319074        3  \n",
       "6         0.801254        2  \n",
       "7        -0.137061        1  \n",
       "8        -0.257167        2  \n",
       "9         0.303017        3  "
      ]
     },
     "execution_count": 37,
     "metadata": {},
     "output_type": "execute_result"
    }
   ],
   "source": [
    "#Creating the new Cluster Column in the Train Data Set\n",
    "data2['Cluster']=clus.labels_\n",
    "data2.head(10)"
   ]
  },
  {
   "cell_type": "code",
   "execution_count": 41,
   "metadata": {},
   "outputs": [
    {
     "data": {
      "text/plain": [
       "array(['B', 'B', 'NB', 'NB', 'NB', 'B', 'NB', 'B', 'NB', 'B', 'B', 'B',\n",
       "       'NB', 'NB', 'NB', 'B', 'NB', 'B', 'NB', 'B', 'B', 'B', 'NB', 'NB',\n",
       "       'B', 'NB', 'NB', 'NB', 'B', 'NB', 'NB', 'NB', 'NB', 'NB', 'NB',\n",
       "       'NB', 'NB', 'NB', 'NB', 'B', 'B', 'NB', 'NB', 'NB', 'B', 'B', 'NB',\n",
       "       'B', 'NB', 'B'], dtype=object)"
      ]
     },
     "execution_count": 41,
     "metadata": {},
     "output_type": "execute_result"
    }
   ],
   "source": [
    "#Q13\n",
    "#Apply Support Vector classification \n",
    "from sklearn.svm import SVC\n",
    "svc=SVC(C=0.1)\n",
    "svc.fit(new_data,Y_train)\n",
    "prediction=svc.predict(data2)\n",
    "prediction"
   ]
  },
  {
   "cell_type": "code",
   "execution_count": 43,
   "metadata": {},
   "outputs": [
    {
     "name": "stdout",
     "output_type": "stream",
     "text": [
      "Test Data Accuracy Score :  0.92\n",
      "Train Data Accuracy Score :  0.99\n"
     ]
    }
   ],
   "source": [
    "#Q14\n",
    "#Checking the Accuracy Score of Training and Testing data\n",
    "print(\"Test Data Accuracy Score : \",accuracy_score(Y_test,prediction))\n",
    "print(\"Train Data Accuracy Score : \",accuracy_score(Y_train,svc.predict(new_data)))"
   ]
  },
  {
   "cell_type": "markdown",
   "metadata": {},
   "source": [
    "#Applying SVC for the original data on which PCA is not applied\n",
    " "
   ]
  },
  {
   "cell_type": "code",
   "execution_count": 44,
   "metadata": {},
   "outputs": [
    {
     "data": {
      "text/plain": [
       "array(['B', 'B', 'NB', 'NB', 'NB', 'NB', 'NB', 'B', 'NB', 'NB', 'B', 'B',\n",
       "       'NB', 'NB', 'NB', 'NB', 'NB', 'B', 'NB', 'B', 'B', 'B', 'NB', 'NB',\n",
       "       'B', 'NB', 'NB', 'NB', 'B', 'NB', 'NB', 'NB', 'NB', 'NB', 'NB',\n",
       "       'NB', 'NB', 'NB', 'NB', 'B', 'B', 'NB', 'NB', 'NB', 'NB', 'B',\n",
       "       'NB', 'B', 'NB', 'B'], dtype=object)"
      ]
     },
     "execution_count": 44,
     "metadata": {},
     "output_type": "execute_result"
    }
   ],
   "source": [
    "from sklearn.svm import SVC\n",
    "svc=SVC(C=0.1)\n",
    "svc.fit(X_train,Y_train)\n",
    "pred=svc.predict(X_test)\n",
    "pred"
   ]
  },
  {
   "cell_type": "code",
   "execution_count": 45,
   "metadata": {},
   "outputs": [
    {
     "name": "stdout",
     "output_type": "stream",
     "text": [
      "Test Data Accuracy Score :  1.0\n",
      "Train Data Accuracy Score :  0.995\n"
     ]
    }
   ],
   "source": [
    "#Checking the Accuracy Score of Training and Testing data\n",
    "print(\"Test Data Accuracy Score : \",accuracy_score(Y_test,pred))\n",
    "print(\"Train Data Accuracy Score : \",accuracy_score(Y_train,svc.predict(X_train)))"
   ]
  },
  {
   "cell_type": "code",
   "execution_count": 46,
   "metadata": {},
   "outputs": [
    {
     "name": "stdout",
     "output_type": "stream",
     "text": [
      "Confusion Matrix for PCA Applied Test Data\n",
      "[[16  0]\n",
      " [ 4 30]]\n"
     ]
    }
   ],
   "source": [
    "print(\"Confusion Matrix for PCA Applied Test Data\")\n",
    "print(confusion_matrix(Y_test,prediction))"
   ]
  },
  {
   "cell_type": "code",
   "execution_count": 48,
   "metadata": {},
   "outputs": [
    {
     "name": "stdout",
     "output_type": "stream",
     "text": [
      "Confusion Matrix for PCA Applied Train Data\n",
      "[[  0  91]\n",
      " [  0 109]]\n"
     ]
    }
   ],
   "source": [
    "print(\"Confusion Matrix for PCA Applied Train Data\")\n",
    "print(confusion_matrix(Y_train,svc.predict(new_data)))"
   ]
  },
  {
   "cell_type": "code",
   "execution_count": 49,
   "metadata": {},
   "outputs": [
    {
     "name": "stdout",
     "output_type": "stream",
     "text": [
      "Confusion Matrix for Original Test Data\n",
      "[[16  0]\n",
      " [ 0 34]]\n"
     ]
    }
   ],
   "source": [
    "print(\"Confusion Matrix for Original Test Data\")\n",
    "print(confusion_matrix(Y_test,pred))"
   ]
  },
  {
   "cell_type": "code",
   "execution_count": 50,
   "metadata": {},
   "outputs": [
    {
     "name": "stdout",
     "output_type": "stream",
     "text": [
      "Confusion Matrix for Original Train Data\n",
      "[[ 90   1]\n",
      " [  0 109]]\n"
     ]
    }
   ],
   "source": [
    "print(\"Confusion Matrix for Original Train Data\")\n",
    "print(confusion_matrix(Y_train,svc.predict(X_train)))"
   ]
  },
  {
   "cell_type": "code",
   "execution_count": 51,
   "metadata": {},
   "outputs": [],
   "source": [
    "#SVC accuracy scores are better than others. "
   ]
  },
  {
   "cell_type": "code",
   "execution_count": null,
   "metadata": {},
   "outputs": [],
   "source": []
  }
 ],
 "metadata": {
  "kernelspec": {
   "display_name": "Python 3",
   "language": "python",
   "name": "python3"
  },
  "language_info": {
   "codemirror_mode": {
    "name": "ipython",
    "version": 3
   },
   "file_extension": ".py",
   "mimetype": "text/x-python",
   "name": "python",
   "nbconvert_exporter": "python",
   "pygments_lexer": "ipython3",
   "version": "3.8.3"
  }
 },
 "nbformat": 4,
 "nbformat_minor": 2
}
