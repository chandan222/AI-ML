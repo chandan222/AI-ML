{
 "cells": [
  {
   "cell_type": "markdown",
   "metadata": {
    "id": "YeoiMbH7djEv"
   },
   "source": [
    "# Stock prices dataset\n",
    "The data is of tock exchange's stock listings for each trading day of 2010 to 2016.\n",
    "\n",
    "## Description\n",
    "A brief description of columns.\n",
    "- open: The opening market price of the equity symbol on the date\n",
    "- high: The highest market price of the equity symbol on the date\n",
    "- low: The lowest recorded market price of the equity symbol on the date\n",
    "- close: The closing recorded price of the equity symbol on the date\n",
    "- symbol: Symbol of the listed company\n",
    "- volume: Total traded volume of the equity symbol on the date\n",
    "- date: Date of record"
   ]
  },
  {
   "cell_type": "markdown",
   "metadata": {
    "id": "RSoYY2nII_UW"
   },
   "source": [
    "In this assignment, we will work on the stock prices dataset named \"prices.csv\". Task is to create a Neural Network to classify closing price for a stock based on some parameters."
   ]
  },
  {
   "cell_type": "code",
   "execution_count": 1,
   "metadata": {
    "id": "PGqq9f8VdLba"
   },
   "outputs": [],
   "source": [
    "# Initialize the random number generator\n",
    "import random\n",
    "random.seed(0)\n",
    "\n",
    "# Ignore the warnings\n",
    "import warnings\n",
    "warnings.filterwarnings(\"ignore\")"
   ]
  },
  {
   "cell_type": "markdown",
   "metadata": {
    "id": "_88voqAH-O6J"
   },
   "source": [
    "## Question 1"
   ]
  },
  {
   "cell_type": "markdown",
   "metadata": {
    "id": "dRHCeJqP-evf"
   },
   "source": [
    "### Load the data\n",
    "- load the csv file and read it using pandas\n",
    "- file name is prices.csv"
   ]
  },
  {
   "cell_type": "code",
   "execution_count": null,
   "metadata": {
    "id": "cKVH5v7r-RmC"
   },
   "outputs": [],
   "source": [
    "# run this cell to upload file using GUI if you are using google colab\n",
    "\n",
    "from google.colab import files\n",
    "files.upload()"
   ]
  },
  {
   "cell_type": "code",
   "execution_count": 5,
   "metadata": {
    "colab": {
     "base_uri": "https://localhost:8080/"
    },
    "id": "Gr4YcffYd1FQ",
    "outputId": "9e25ca7c-10d0-413c-cade-82d74359e1a3"
   },
   "outputs": [
    {
     "name": "stdout",
     "output_type": "stream",
     "text": [
      "Mounted at /content/drive/\n"
     ]
    }
   ],
   "source": [
    "# run this cell to to mount the google drive if you are using google colab\n",
    "\n",
    "from google.colab import drive\n",
    "drive.mount('/content/drive/')"
   ]
  },
  {
   "cell_type": "code",
   "execution_count": 11,
   "metadata": {
    "id": "Qjm7S_-oR_sr"
   },
   "outputs": [],
   "source": [
    "project_path = '/content/drive/MyDrive/'"
   ]
  },
  {
   "cell_type": "code",
   "execution_count": 12,
   "metadata": {
    "id": "_yuwJJIeeUaD"
   },
   "outputs": [],
   "source": [
    "import pandas as pd\n",
    "df = pd.read_csv(project_path + 'prices.csv')"
   ]
  },
  {
   "cell_type": "code",
   "execution_count": 13,
   "metadata": {
    "colab": {
     "base_uri": "https://localhost:8080/",
     "height": 195
    },
    "id": "usWVluvdVnrq",
    "outputId": "2e479f9c-01f7-475a-c3de-bed813fd9f41"
   },
   "outputs": [
    {
     "data": {
      "text/html": [
       "<div>\n",
       "<style scoped>\n",
       "    .dataframe tbody tr th:only-of-type {\n",
       "        vertical-align: middle;\n",
       "    }\n",
       "\n",
       "    .dataframe tbody tr th {\n",
       "        vertical-align: top;\n",
       "    }\n",
       "\n",
       "    .dataframe thead th {\n",
       "        text-align: right;\n",
       "    }\n",
       "</style>\n",
       "<table border=\"1\" class=\"dataframe\">\n",
       "  <thead>\n",
       "    <tr style=\"text-align: right;\">\n",
       "      <th></th>\n",
       "      <th>date</th>\n",
       "      <th>symbol</th>\n",
       "      <th>open</th>\n",
       "      <th>close</th>\n",
       "      <th>low</th>\n",
       "      <th>high</th>\n",
       "      <th>volume</th>\n",
       "    </tr>\n",
       "  </thead>\n",
       "  <tbody>\n",
       "    <tr>\n",
       "      <th>0</th>\n",
       "      <td>2016-01-05 00:00:00</td>\n",
       "      <td>WLTW</td>\n",
       "      <td>123.430000</td>\n",
       "      <td>125.839996</td>\n",
       "      <td>122.309998</td>\n",
       "      <td>126.250000</td>\n",
       "      <td>2163600.0</td>\n",
       "    </tr>\n",
       "    <tr>\n",
       "      <th>1</th>\n",
       "      <td>2016-01-06 00:00:00</td>\n",
       "      <td>WLTW</td>\n",
       "      <td>125.239998</td>\n",
       "      <td>119.980003</td>\n",
       "      <td>119.940002</td>\n",
       "      <td>125.540001</td>\n",
       "      <td>2386400.0</td>\n",
       "    </tr>\n",
       "    <tr>\n",
       "      <th>2</th>\n",
       "      <td>2016-01-07 00:00:00</td>\n",
       "      <td>WLTW</td>\n",
       "      <td>116.379997</td>\n",
       "      <td>114.949997</td>\n",
       "      <td>114.930000</td>\n",
       "      <td>119.739998</td>\n",
       "      <td>2489500.0</td>\n",
       "    </tr>\n",
       "    <tr>\n",
       "      <th>3</th>\n",
       "      <td>2016-01-08 00:00:00</td>\n",
       "      <td>WLTW</td>\n",
       "      <td>115.480003</td>\n",
       "      <td>116.620003</td>\n",
       "      <td>113.500000</td>\n",
       "      <td>117.440002</td>\n",
       "      <td>2006300.0</td>\n",
       "    </tr>\n",
       "    <tr>\n",
       "      <th>4</th>\n",
       "      <td>2016-01-11 00:00:00</td>\n",
       "      <td>WLTW</td>\n",
       "      <td>117.010002</td>\n",
       "      <td>114.970001</td>\n",
       "      <td>114.089996</td>\n",
       "      <td>117.330002</td>\n",
       "      <td>1408600.0</td>\n",
       "    </tr>\n",
       "  </tbody>\n",
       "</table>\n",
       "</div>"
      ],
      "text/plain": [
       "                  date symbol        open  ...         low        high     volume\n",
       "0  2016-01-05 00:00:00   WLTW  123.430000  ...  122.309998  126.250000  2163600.0\n",
       "1  2016-01-06 00:00:00   WLTW  125.239998  ...  119.940002  125.540001  2386400.0\n",
       "2  2016-01-07 00:00:00   WLTW  116.379997  ...  114.930000  119.739998  2489500.0\n",
       "3  2016-01-08 00:00:00   WLTW  115.480003  ...  113.500000  117.440002  2006300.0\n",
       "4  2016-01-11 00:00:00   WLTW  117.010002  ...  114.089996  117.330002  1408600.0\n",
       "\n",
       "[5 rows x 7 columns]"
      ]
     },
     "execution_count": 13,
     "metadata": {
      "tags": []
     },
     "output_type": "execute_result"
    }
   ],
   "source": [
    "df.head()"
   ]
  },
  {
   "cell_type": "markdown",
   "metadata": {
    "id": "HlLKVPVH_BCT"
   },
   "source": [
    "## Question 2"
   ]
  },
  {
   "cell_type": "markdown",
   "metadata": {
    "id": "ZxoGynuBeO4t"
   },
   "source": [
    "### Drop null\n",
    "- Drop null values if any"
   ]
  },
  {
   "cell_type": "code",
   "execution_count": 15,
   "metadata": {
    "id": "ctSQYYPDWO0g"
   },
   "outputs": [],
   "source": [
    "df = df.dropna()"
   ]
  },
  {
   "cell_type": "markdown",
   "metadata": {
    "id": "9J4BlzVA_gZd"
   },
   "source": [
    "### Drop columns\n",
    "- Now, we don't need \"date\", \"volume\" and \"symbol\" column\n",
    "- drop \"date\", \"volume\" and \"symbol\" column from the data\n"
   ]
  },
  {
   "cell_type": "code",
   "execution_count": 16,
   "metadata": {
    "id": "IKEK8aEE_Csx"
   },
   "outputs": [],
   "source": [
    "df = df.drop(['date', 'symbol', 'volume'], axis=1)"
   ]
  },
  {
   "cell_type": "markdown",
   "metadata": {
    "id": "cTPhO6v-AiZt"
   },
   "source": [
    "## Question 3"
   ]
  },
  {
   "cell_type": "markdown",
   "metadata": {
    "id": "SsZXmF3NAkna"
   },
   "source": [
    "### Print the dataframe\n",
    "- print the modified dataframe"
   ]
  },
  {
   "cell_type": "code",
   "execution_count": 17,
   "metadata": {
    "colab": {
     "base_uri": "https://localhost:8080/",
     "height": 195
    },
    "id": "-bC5jsWLW6cu",
    "outputId": "9570fee8-3b55-4607-ba00-606ea78b8bd2"
   },
   "outputs": [
    {
     "data": {
      "text/html": [
       "<div>\n",
       "<style scoped>\n",
       "    .dataframe tbody tr th:only-of-type {\n",
       "        vertical-align: middle;\n",
       "    }\n",
       "\n",
       "    .dataframe tbody tr th {\n",
       "        vertical-align: top;\n",
       "    }\n",
       "\n",
       "    .dataframe thead th {\n",
       "        text-align: right;\n",
       "    }\n",
       "</style>\n",
       "<table border=\"1\" class=\"dataframe\">\n",
       "  <thead>\n",
       "    <tr style=\"text-align: right;\">\n",
       "      <th></th>\n",
       "      <th>open</th>\n",
       "      <th>close</th>\n",
       "      <th>low</th>\n",
       "      <th>high</th>\n",
       "    </tr>\n",
       "  </thead>\n",
       "  <tbody>\n",
       "    <tr>\n",
       "      <th>0</th>\n",
       "      <td>123.430000</td>\n",
       "      <td>125.839996</td>\n",
       "      <td>122.309998</td>\n",
       "      <td>126.250000</td>\n",
       "    </tr>\n",
       "    <tr>\n",
       "      <th>1</th>\n",
       "      <td>125.239998</td>\n",
       "      <td>119.980003</td>\n",
       "      <td>119.940002</td>\n",
       "      <td>125.540001</td>\n",
       "    </tr>\n",
       "    <tr>\n",
       "      <th>2</th>\n",
       "      <td>116.379997</td>\n",
       "      <td>114.949997</td>\n",
       "      <td>114.930000</td>\n",
       "      <td>119.739998</td>\n",
       "    </tr>\n",
       "    <tr>\n",
       "      <th>3</th>\n",
       "      <td>115.480003</td>\n",
       "      <td>116.620003</td>\n",
       "      <td>113.500000</td>\n",
       "      <td>117.440002</td>\n",
       "    </tr>\n",
       "    <tr>\n",
       "      <th>4</th>\n",
       "      <td>117.010002</td>\n",
       "      <td>114.970001</td>\n",
       "      <td>114.089996</td>\n",
       "      <td>117.330002</td>\n",
       "    </tr>\n",
       "  </tbody>\n",
       "</table>\n",
       "</div>"
      ],
      "text/plain": [
       "         open       close         low        high\n",
       "0  123.430000  125.839996  122.309998  126.250000\n",
       "1  125.239998  119.980003  119.940002  125.540001\n",
       "2  116.379997  114.949997  114.930000  119.739998\n",
       "3  115.480003  116.620003  113.500000  117.440002\n",
       "4  117.010002  114.970001  114.089996  117.330002"
      ]
     },
     "execution_count": 17,
     "metadata": {
      "tags": []
     },
     "output_type": "execute_result"
    }
   ],
   "source": [
    "df.head()"
   ]
  },
  {
   "cell_type": "code",
   "execution_count": 18,
   "metadata": {
    "colab": {
     "base_uri": "https://localhost:8080/",
     "height": 195
    },
    "id": "m6pbbYLzYCly",
    "outputId": "cbef95d7-731e-45c0-a38d-15959458fde8"
   },
   "outputs": [
    {
     "data": {
      "text/html": [
       "<div>\n",
       "<style scoped>\n",
       "    .dataframe tbody tr th:only-of-type {\n",
       "        vertical-align: middle;\n",
       "    }\n",
       "\n",
       "    .dataframe tbody tr th {\n",
       "        vertical-align: top;\n",
       "    }\n",
       "\n",
       "    .dataframe thead th {\n",
       "        text-align: right;\n",
       "    }\n",
       "</style>\n",
       "<table border=\"1\" class=\"dataframe\">\n",
       "  <thead>\n",
       "    <tr style=\"text-align: right;\">\n",
       "      <th></th>\n",
       "      <th>open</th>\n",
       "      <th>close</th>\n",
       "      <th>low</th>\n",
       "      <th>high</th>\n",
       "    </tr>\n",
       "  </thead>\n",
       "  <tbody>\n",
       "    <tr>\n",
       "      <th>851259</th>\n",
       "      <td>103.309998</td>\n",
       "      <td>103.199997</td>\n",
       "      <td>102.849998</td>\n",
       "      <td>103.930000</td>\n",
       "    </tr>\n",
       "    <tr>\n",
       "      <th>851260</th>\n",
       "      <td>43.070000</td>\n",
       "      <td>43.040001</td>\n",
       "      <td>42.689999</td>\n",
       "      <td>43.310001</td>\n",
       "    </tr>\n",
       "    <tr>\n",
       "      <th>851261</th>\n",
       "      <td>53.639999</td>\n",
       "      <td>53.529999</td>\n",
       "      <td>53.270000</td>\n",
       "      <td>53.740002</td>\n",
       "    </tr>\n",
       "    <tr>\n",
       "      <th>851262</th>\n",
       "      <td>44.730000</td>\n",
       "      <td>45.450001</td>\n",
       "      <td>44.410000</td>\n",
       "      <td>45.590000</td>\n",
       "    </tr>\n",
       "    <tr>\n",
       "      <th>851263</th>\n",
       "      <td>54.200001</td>\n",
       "      <td>53.630001</td>\n",
       "      <td>53.389999</td>\n",
       "      <td>54.480000</td>\n",
       "    </tr>\n",
       "  </tbody>\n",
       "</table>\n",
       "</div>"
      ],
      "text/plain": [
       "              open       close         low        high\n",
       "851259  103.309998  103.199997  102.849998  103.930000\n",
       "851260   43.070000   43.040001   42.689999   43.310001\n",
       "851261   53.639999   53.529999   53.270000   53.740002\n",
       "851262   44.730000   45.450001   44.410000   45.590000\n",
       "851263   54.200001   53.630001   53.389999   54.480000"
      ]
     },
     "execution_count": 18,
     "metadata": {
      "tags": []
     },
     "output_type": "execute_result"
    }
   ],
   "source": [
    "df.tail()"
   ]
  },
  {
   "cell_type": "markdown",
   "metadata": {
    "id": "C8u_jlbABTip"
   },
   "source": [
    "### Get features and label from the dataset in separate variable\n",
    "- Let's separate labels and features now. We are going to predict the value for \"close\" column so that will be our label. Our features will be \"open\", \"low\", \"high\"\n",
    "- Take \"open\" \"low\", \"high\" columns as features\n",
    "- Take \"close\" column as label"
   ]
  },
  {
   "cell_type": "code",
   "execution_count": 19,
   "metadata": {
    "id": "xQjCMzUXBJbg"
   },
   "outputs": [],
   "source": [
    "X = df.drop('close', axis=1)\n",
    "y = df['close']"
   ]
  },
  {
   "cell_type": "code",
   "execution_count": 21,
   "metadata": {
    "colab": {
     "base_uri": "https://localhost:8080/"
    },
    "id": "h21znuSIY1Wh",
    "outputId": "b23f558d-df45-4b6f-e94b-91df35672045"
   },
   "outputs": [
    {
     "data": {
      "text/plain": [
       "(851264, 3)"
      ]
     },
     "execution_count": 21,
     "metadata": {
      "tags": []
     },
     "output_type": "execute_result"
    }
   ],
   "source": [
    "X.shape"
   ]
  },
  {
   "cell_type": "markdown",
   "metadata": {
    "id": "6vGtnapgBIJm"
   },
   "source": [
    "## Question 4"
   ]
  },
  {
   "cell_type": "markdown",
   "metadata": {
    "id": "8pZAKdJ5gcrm"
   },
   "source": [
    "### Create train and test sets\n",
    "- Split the data into training and testing"
   ]
  },
  {
   "cell_type": "code",
   "execution_count": 20,
   "metadata": {
    "id": "KalRqA6Rgqsn"
   },
   "outputs": [],
   "source": [
    "from sklearn.model_selection import train_test_split\n",
    "X_train, X_test, y_train, y_test = train_test_split(X, y, random_state=0)"
   ]
  },
  {
   "cell_type": "markdown",
   "metadata": {
    "id": "aTAKzlxZBz0z"
   },
   "source": [
    "## Question 5"
   ]
  },
  {
   "cell_type": "markdown",
   "metadata": {
    "id": "O7BU2qxEg0Ki"
   },
   "source": [
    "### Scaling\n",
    "- Scale the data (features only)\n",
    "- Use StandarScaler"
   ]
  },
  {
   "cell_type": "code",
   "execution_count": 22,
   "metadata": {
    "colab": {
     "base_uri": "https://localhost:8080/"
    },
    "id": "AcO8SlhPhBkR",
    "outputId": "0c767896-22ed-4f7d-8f6d-aa9925e98df2"
   },
   "outputs": [
    {
     "data": {
      "text/plain": [
       "StandardScaler(copy=True, with_mean=True, with_std=True)"
      ]
     },
     "execution_count": 22,
     "metadata": {
      "tags": []
     },
     "output_type": "execute_result"
    }
   ],
   "source": [
    "from sklearn.preprocessing import StandardScaler\n",
    "scaler = StandardScaler()\n",
    "scaler.fit(X_train)"
   ]
  },
  {
   "cell_type": "code",
   "execution_count": 23,
   "metadata": {
    "id": "0BjCe0u3Z5DS"
   },
   "outputs": [],
   "source": [
    " X_train_std = scaler.transform(X_train)\n",
    " X_test_std = scaler.transform(X_test)"
   ]
  },
  {
   "cell_type": "markdown",
   "metadata": {
    "id": "3TWpN0nVTpUx"
   },
   "source": [
    "## Question 6"
   ]
  },
  {
   "cell_type": "markdown",
   "metadata": {
    "id": "_sj0LYNkhR-L"
   },
   "source": [
    "### Convert data to NumPy array\n",
    "- Convert features and labels to numpy array"
   ]
  },
  {
   "cell_type": "code",
   "execution_count": 24,
   "metadata": {
    "id": "X6mIfuTxhbTT"
   },
   "outputs": [],
   "source": [
    "import numpy as np\n"
   ]
  },
  {
   "cell_type": "code",
   "execution_count": 27,
   "metadata": {
    "id": "-_j95oxzhgsx"
   },
   "outputs": [],
   "source": [
    "y_train = np.asarray(y_train)\n",
    "y_test = np.asarray(y_test)"
   ]
  },
  {
   "cell_type": "code",
   "execution_count": 30,
   "metadata": {
    "colab": {
     "base_uri": "https://localhost:8080/"
    },
    "id": "u7mzHu2aiHpe",
    "outputId": "10a2f215-cfe1-4cd5-ae93-bb10733ea5ee"
   },
   "outputs": [
    {
     "data": {
      "text/plain": [
       "(638448,)"
      ]
     },
     "execution_count": 30,
     "metadata": {
      "tags": []
     },
     "output_type": "execute_result"
    }
   ],
   "source": [
    "y_train.shape"
   ]
  },
  {
   "cell_type": "code",
   "execution_count": 32,
   "metadata": {
    "colab": {
     "base_uri": "https://localhost:8080/"
    },
    "id": "HeTgiIpKiStp",
    "outputId": "9ea4d0e5-73e4-4c13-8080-4b0cf525c19a"
   },
   "outputs": [
    {
     "data": {
      "text/plain": [
       "(638448, 3)"
      ]
     },
     "execution_count": 32,
     "metadata": {
      "tags": []
     },
     "output_type": "execute_result"
    }
   ],
   "source": [
    "X_train_std.shape"
   ]
  },
  {
   "cell_type": "code",
   "execution_count": 34,
   "metadata": {
    "id": "TcHGU3n2kqfh"
   },
   "outputs": [],
   "source": [
    "X_train_std = X_train_std.reshape(X_train_std.shape[0], X_train_std.shape[1], 1)\n",
    "X_test_std = X_test_std.reshape(X_test_std.shape[0], X_test_std.shape[1], 1)"
   ]
  },
  {
   "cell_type": "markdown",
   "metadata": {
    "id": "wmXUGc2oTspa"
   },
   "source": [
    "## Question 7"
   ]
  },
  {
   "cell_type": "markdown",
   "metadata": {
    "id": "cl2M9whFh6mh"
   },
   "source": [
    "### Define Model\n",
    "- Initialize a Sequential model\n",
    "- Add a Flatten layer\n",
    "- Add a Dense layer with one neuron as output\n",
    "  - add 'linear' as activation function\n"
   ]
  },
  {
   "cell_type": "code",
   "execution_count": 40,
   "metadata": {
    "id": "TkiBpORmiegL"
   },
   "outputs": [],
   "source": [
    "from tensorflow.keras.models import Sequential\n",
    "from tensorflow.keras.layers import Flatten, Dense\n",
    "\n",
    "model = Sequential([ Flatten(), \n",
    "                    Dense(1, activation='linear') ])"
   ]
  },
  {
   "cell_type": "markdown",
   "metadata": {
    "id": "8a0wr94aTyjg"
   },
   "source": [
    "## Question 8"
   ]
  },
  {
   "cell_type": "markdown",
   "metadata": {
    "id": "BNZPb5lKioX0"
   },
   "source": [
    "### Compile the model\n",
    "- Compile the model\n",
    "- Use \"sgd\" optimizer\n",
    "- for calculating loss, use mean squared error"
   ]
  },
  {
   "cell_type": "code",
   "execution_count": 43,
   "metadata": {
    "id": "ZEQUP3VaiuT2"
   },
   "outputs": [],
   "source": [
    "model.compile(optimizer='sgd', loss='mean_squared_error')"
   ]
  },
  {
   "cell_type": "markdown",
   "metadata": {
    "id": "ZbBpnOtfT0wd"
   },
   "source": [
    "## Question 9"
   ]
  },
  {
   "cell_type": "markdown",
   "metadata": {
    "id": "n9o45OHdjDhA"
   },
   "source": [
    "### Fit the model\n",
    "- epochs: 50\n",
    "- batch size: 128\n",
    "- specify validation data"
   ]
  },
  {
   "cell_type": "code",
   "execution_count": 45,
   "metadata": {
    "colab": {
     "base_uri": "https://localhost:8080/"
    },
    "id": "-Y6tA30XjOH2",
    "outputId": "41d9178d-103b-4ba7-9896-79f3361a5d04"
   },
   "outputs": [
    {
     "name": "stdout",
     "output_type": "stream",
     "text": [
      "Epoch 1/50\n",
      "4988/4988 [==============================] - 5s 1ms/step - loss: 0.9520 - val_loss: 0.9633\n",
      "Epoch 2/50\n",
      "4988/4988 [==============================] - 5s 969us/step - loss: 0.9439 - val_loss: 0.9537\n",
      "Epoch 3/50\n",
      "4988/4988 [==============================] - 5s 989us/step - loss: 0.9371 - val_loss: 0.9494\n",
      "Epoch 4/50\n",
      "4988/4988 [==============================] - 5s 971us/step - loss: 0.9312 - val_loss: 0.9389\n",
      "Epoch 5/50\n",
      "4988/4988 [==============================] - 5s 975us/step - loss: 0.9242 - val_loss: 0.9345\n",
      "Epoch 6/50\n",
      "4988/4988 [==============================] - 5s 972us/step - loss: 0.9171 - val_loss: 0.9553\n",
      "Epoch 7/50\n",
      "4988/4988 [==============================] - 5s 968us/step - loss: 0.9109 - val_loss: 0.9214\n",
      "Epoch 8/50\n",
      "4988/4988 [==============================] - 5s 985us/step - loss: 0.9048 - val_loss: 0.9120\n",
      "Epoch 9/50\n",
      "4988/4988 [==============================] - 5s 987us/step - loss: 0.8983 - val_loss: 0.9068\n",
      "Epoch 10/50\n",
      "4988/4988 [==============================] - 5s 959us/step - loss: 0.8910 - val_loss: 0.9992\n",
      "Epoch 11/50\n",
      "4988/4988 [==============================] - 5s 984us/step - loss: 0.8855 - val_loss: 0.9123\n",
      "Epoch 12/50\n",
      "4988/4988 [==============================] - 5s 989us/step - loss: 0.8795 - val_loss: 0.8893\n",
      "Epoch 13/50\n",
      "4988/4988 [==============================] - 5s 997us/step - loss: 0.8730 - val_loss: 0.9054\n",
      "Epoch 14/50\n",
      "4988/4988 [==============================] - 5s 994us/step - loss: 0.8675 - val_loss: 0.9091\n",
      "Epoch 15/50\n",
      "4988/4988 [==============================] - 5s 991us/step - loss: 0.8617 - val_loss: 0.8689\n",
      "Epoch 16/50\n",
      "4988/4988 [==============================] - 5s 1ms/step - loss: 0.8561 - val_loss: 0.8656\n",
      "Epoch 17/50\n",
      "4988/4988 [==============================] - 5s 984us/step - loss: 0.8494 - val_loss: 0.8590\n",
      "Epoch 18/50\n",
      "4988/4988 [==============================] - 5s 970us/step - loss: 0.8434 - val_loss: 0.8578\n",
      "Epoch 19/50\n",
      "4988/4988 [==============================] - 5s 1ms/step - loss: 0.8387 - val_loss: 0.8480\n",
      "Epoch 20/50\n",
      "4988/4988 [==============================] - 5s 993us/step - loss: 0.8343 - val_loss: 0.8400\n",
      "Epoch 21/50\n",
      "4988/4988 [==============================] - 5s 963us/step - loss: 0.8274 - val_loss: 0.8415\n",
      "Epoch 22/50\n",
      "4988/4988 [==============================] - 5s 965us/step - loss: 0.8225 - val_loss: 0.8316\n",
      "Epoch 23/50\n",
      "4988/4988 [==============================] - 5s 971us/step - loss: 0.8172 - val_loss: 0.8492\n",
      "Epoch 24/50\n",
      "4988/4988 [==============================] - 5s 1ms/step - loss: 0.8133 - val_loss: 0.8185\n",
      "Epoch 25/50\n",
      "4988/4988 [==============================] - 5s 988us/step - loss: 0.8060 - val_loss: 0.8151\n",
      "Epoch 26/50\n",
      "4988/4988 [==============================] - 6s 1ms/step - loss: 0.8009 - val_loss: 0.8146\n",
      "Epoch 27/50\n",
      "4988/4988 [==============================] - 6s 1ms/step - loss: 0.7960 - val_loss: 0.8275\n",
      "Epoch 28/50\n",
      "4988/4988 [==============================] - 5s 1ms/step - loss: 0.7926 - val_loss: 0.7980\n",
      "Epoch 29/50\n",
      "4988/4988 [==============================] - 5s 963us/step - loss: 0.7872 - val_loss: 0.7983\n",
      "Epoch 30/50\n",
      "4988/4988 [==============================] - 5s 987us/step - loss: 0.7818 - val_loss: 0.7892\n",
      "Epoch 31/50\n",
      "4988/4988 [==============================] - 5s 989us/step - loss: 0.7773 - val_loss: 0.7873\n",
      "Epoch 32/50\n",
      "4988/4988 [==============================] - 5s 1ms/step - loss: 0.7726 - val_loss: 0.7788\n",
      "Epoch 33/50\n",
      "4988/4988 [==============================] - 5s 983us/step - loss: 0.7682 - val_loss: 0.7755\n",
      "Epoch 34/50\n",
      "4988/4988 [==============================] - 5s 983us/step - loss: 0.7628 - val_loss: 0.7713\n",
      "Epoch 35/50\n",
      "4988/4988 [==============================] - 5s 984us/step - loss: 0.7590 - val_loss: 0.7667\n",
      "Epoch 36/50\n",
      "4988/4988 [==============================] - 5s 999us/step - loss: 0.7543 - val_loss: 0.7626\n",
      "Epoch 37/50\n",
      "4988/4988 [==============================] - 5s 970us/step - loss: 0.7495 - val_loss: 0.7584\n",
      "Epoch 38/50\n",
      "4988/4988 [==============================] - 5s 985us/step - loss: 0.7456 - val_loss: 0.7537\n",
      "Epoch 39/50\n",
      "4988/4988 [==============================] - 5s 981us/step - loss: 0.7404 - val_loss: 0.7925\n",
      "Epoch 40/50\n",
      "4988/4988 [==============================] - 5s 976us/step - loss: 0.7370 - val_loss: 0.7429\n",
      "Epoch 41/50\n",
      "4988/4988 [==============================] - 5s 980us/step - loss: 0.7318 - val_loss: 0.7387\n",
      "Epoch 42/50\n",
      "4988/4988 [==============================] - 5s 977us/step - loss: 0.7290 - val_loss: 0.7346\n",
      "Epoch 43/50\n",
      "4988/4988 [==============================] - 5s 973us/step - loss: 0.7250 - val_loss: 0.7442\n",
      "Epoch 44/50\n",
      "4988/4988 [==============================] - 5s 985us/step - loss: 0.7208 - val_loss: 0.7297\n",
      "Epoch 45/50\n",
      "4988/4988 [==============================] - 5s 973us/step - loss: 0.7172 - val_loss: 0.7580\n",
      "Epoch 46/50\n",
      "4988/4988 [==============================] - 5s 969us/step - loss: 0.7127 - val_loss: 0.7190\n",
      "Epoch 47/50\n",
      "4988/4988 [==============================] - 5s 986us/step - loss: 0.7096 - val_loss: 0.7366\n",
      "Epoch 48/50\n",
      "4988/4988 [==============================] - 5s 971us/step - loss: 0.7052 - val_loss: 0.7151\n",
      "Epoch 49/50\n",
      "4988/4988 [==============================] - 5s 1ms/step - loss: 0.7014 - val_loss: 0.7214\n",
      "Epoch 50/50\n",
      "4988/4988 [==============================] - 5s 1ms/step - loss: 0.6976 - val_loss: 0.7131\n"
     ]
    },
    {
     "data": {
      "text/plain": [
       "<tensorflow.python.keras.callbacks.History at 0x7f9396278fd0>"
      ]
     },
     "execution_count": 45,
     "metadata": {
      "tags": []
     },
     "output_type": "execute_result"
    }
   ],
   "source": [
    "# epoch = no of times the entire data has crossed the forward pass and backward pass\n",
    "model.fit(X_train_std, y_train, epochs=50, batch_size=128, validation_data=(X_test_std, y_test))"
   ]
  },
  {
   "cell_type": "markdown",
   "metadata": {
    "id": "AW4SEP8kT2ls"
   },
   "source": [
    "## Question 10"
   ]
  },
  {
   "cell_type": "markdown",
   "metadata": {
    "id": "EJDoix_7JU61"
   },
   "source": [
    "### Evaluate the model\n",
    "- Evaluate the model on test data"
   ]
  },
  {
   "cell_type": "code",
   "execution_count": 46,
   "metadata": {
    "colab": {
     "base_uri": "https://localhost:8080/"
    },
    "id": "HdH8pYBIjHGL",
    "outputId": "eea20223-73ed-4de6-f4b5-1f1ffcc97c68"
   },
   "outputs": [
    {
     "name": "stdout",
     "output_type": "stream",
     "text": [
      "6651/6651 [==============================] - 4s 652us/step - loss: 0.7131\n"
     ]
    },
    {
     "data": {
      "text/plain": [
       "0.7131108641624451"
      ]
     },
     "execution_count": 46,
     "metadata": {
      "tags": []
     },
     "output_type": "execute_result"
    }
   ],
   "source": [
    "model.evaluate(X_test_std, y_test)"
   ]
  },
  {
   "cell_type": "markdown",
   "metadata": {
    "id": "hUpDD74Xjh01"
   },
   "source": [
    "### Manual predictions\n",
    "- Test the predictions on manual inputs\n",
    "- We have scaled out training data, so we need to transform our custom inputs using the object of the scaler\n",
    "- Example of manual input: [123.430000,\t122.30999, 116.250000]"
   ]
  },
  {
   "cell_type": "code",
   "execution_count": 47,
   "metadata": {
    "colab": {
     "base_uri": "https://localhost:8080/"
    },
    "id": "fvuH-c31lLiJ",
    "outputId": "85ef604d-17cf-4ec5-d6a3-69042987381b"
   },
   "outputs": [
    {
     "data": {
      "text/plain": [
       "array([[119.80609]], dtype=float32)"
      ]
     },
     "execution_count": 47,
     "metadata": {
      "tags": []
     },
     "output_type": "execute_result"
    }
   ],
   "source": [
    "model.predict(scaler.transform([[123.430000, 122.30999, 116.250000]]))"
   ]
  },
  {
   "cell_type": "markdown",
   "metadata": {
    "id": "4WH1Pr4KQlCh"
   },
   "source": [
    "# Build a DNN"
   ]
  },
  {
   "cell_type": "markdown",
   "metadata": {
    "id": "cJ4OXfLdr8jk"
   },
   "source": [
    "import tensorflow as tf"
   ]
  },
  {
   "cell_type": "markdown",
   "metadata": {
    "id": "74cQBsi5QlCw"
   },
   "source": [
    "### Collect Fashion mnist data from tf.keras.datasets "
   ]
  },
  {
   "cell_type": "code",
   "execution_count": 67,
   "metadata": {
    "id": "wVWy0oDTr2Kj"
   },
   "outputs": [],
   "source": [
    "import tensorflow as tf\n",
    "(train_x, train_y), (test_x, test_y) = tf.keras.datasets.fashion_mnist.load_data()"
   ]
  },
  {
   "cell_type": "code",
   "execution_count": 68,
   "metadata": {
    "id": "my4tcpuh0XvP"
   },
   "outputs": [],
   "source": [
    "class_names = ['T-shirt/top', 'Trouser', 'Pullover', 'Dress', 'Coat', 'Sandal', 'Shirt', 'Sneaker', 'Bag', 'Ankle boot']"
   ]
  },
  {
   "cell_type": "code",
   "execution_count": 71,
   "metadata": {
    "colab": {
     "base_uri": "https://localhost:8080/",
     "height": 282
    },
    "id": "btyr_Sw8zYqo",
    "outputId": "254da2fe-41c4-40f5-c8e4-23953e295582"
   },
   "outputs": [
    {
     "name": "stdout",
     "output_type": "stream",
     "text": [
      "Pullover\n"
     ]
    },
    {
     "data": {
      "image/png": "[encoded data removed]",
      "text/plain": [
       "<Figure size 432x288 with 1 Axes>"
      ]
     },
     "metadata": {
      "needs_background": "light",
      "tags": []
     },
     "output_type": "display_data"
    }
   ],
   "source": [
    "import matplotlib.pyplot as plt\n",
    "%matplotlib inline\n",
    "\n",
    "plt.imshow(train_x[5].reshape(28,28))\n",
    "print(class_names[train_y[5]])"
   ]
  },
  {
   "cell_type": "code",
   "execution_count": 72,
   "metadata": {
    "colab": {
     "base_uri": "https://localhost:8080/"
    },
    "id": "UX6otc4wQlC2",
    "outputId": "18642a85-55f5-4b3d-c22d-4d1221dbab79"
   },
   "outputs": [
    {
     "data": {
      "text/plain": [
       "(60000, 28, 28)"
      ]
     },
     "execution_count": 72,
     "metadata": {
      "tags": []
     },
     "output_type": "execute_result"
    }
   ],
   "source": [
    "train_x.shape"
   ]
  },
  {
   "cell_type": "code",
   "execution_count": 73,
   "metadata": {
    "colab": {
     "base_uri": "https://localhost:8080/"
    },
    "id": "J5V-6AARz1pG",
    "outputId": "08da598f-bc5d-4449-e394-62092eeff3a8"
   },
   "outputs": [
    {
     "data": {
      "text/plain": [
       "array([0, 1, 2, 3, 4, 5, 6, 7, 8, 9], dtype=uint8)"
      ]
     },
     "execution_count": 73,
     "metadata": {
      "tags": []
     },
     "output_type": "execute_result"
    }
   ],
   "source": [
    "u, indices = np.unique(train_y, return_inverse=True)\n",
    "u"
   ]
  },
  {
   "cell_type": "markdown",
   "metadata": {
    "id": "no7aWYZyQlC1"
   },
   "source": [
    "### Change train and test labels into one-hot vectors"
   ]
  },
  {
   "cell_type": "code",
   "execution_count": 74,
   "metadata": {
    "colab": {
     "base_uri": "https://localhost:8080/"
    },
    "id": "kaBd5hbY2Gxa",
    "outputId": "b819ee83-753e-472d-9708-a15ef8310b5e"
   },
   "outputs": [
    {
     "data": {
      "text/plain": [
       "0"
      ]
     },
     "execution_count": 74,
     "metadata": {
      "tags": []
     },
     "output_type": "execute_result"
    }
   ],
   "source": [
    "train_y[10]"
   ]
  },
  {
   "cell_type": "code",
   "execution_count": 75,
   "metadata": {
    "id": "X9Bb5oKr1hLo"
   },
   "outputs": [],
   "source": [
    "train_y = tf.keras.utils.to_categorical(train_y, num_classes=10)\n",
    "test_y = tf.keras.utils.to_categorical(test_y, num_classes=10)"
   ]
  },
  {
   "cell_type": "code",
   "execution_count": 76,
   "metadata": {
    "colab": {
     "base_uri": "https://localhost:8080/"
    },
    "id": "tbnJtPA62N85",
    "outputId": "3632a989-3a2d-43b5-bfa0-365b344a020a"
   },
   "outputs": [
    {
     "data": {
      "text/plain": [
       "array([1., 0., 0., 0., 0., 0., 0., 0., 0., 0.], dtype=float32)"
      ]
     },
     "execution_count": 76,
     "metadata": {
      "tags": []
     },
     "output_type": "execute_result"
    }
   ],
   "source": [
    "train_y[10]"
   ]
  },
  {
   "cell_type": "code",
   "execution_count": 66,
   "metadata": {
    "colab": {
     "base_uri": "https://localhost:8080/"
    },
    "id": "KbJRSEtd2c2w",
    "outputId": "d397361c-6191-462f-acce-5b46c06236d8"
   },
   "outputs": [
    {
     "data": {
      "text/plain": [
       "784"
      ]
     },
     "execution_count": 66,
     "metadata": {
      "tags": []
     },
     "output_type": "execute_result"
    }
   ],
   "source": [
    "28*28"
   ]
  },
  {
   "cell_type": "markdown",
   "metadata": {
    "id": "QjNrRTdoQlC5"
   },
   "source": [
    "### Build the Graph"
   ]
  },
  {
   "cell_type": "markdown",
   "metadata": {
    "id": "CDJ9DHVNQlC7"
   },
   "source": [
    "### Initialize model, reshape & normalize data"
   ]
  },
  {
   "cell_type": "code",
   "execution_count": 80,
   "metadata": {
    "id": "pCDQs_g1QlC8"
   },
   "outputs": [],
   "source": [
    "model1 = tf.keras.models.Sequential()\n",
    "# initialize input layer\n",
    "model1.add(tf.keras.layers.Reshape((784,), input_shape=(28,28,)))\n",
    "model1.add(tf.keras.layers.BatchNormalization())"
   ]
  },
  {
   "cell_type": "markdown",
   "metadata": {
    "id": "kBGwTTilQlDD"
   },
   "source": [
    "### Add two fully connected layers with 200 and 100 neurons respectively with `relu` activations. Add a dropout layer with `p=0.25`"
   ]
  },
  {
   "cell_type": "code",
   "execution_count": 81,
   "metadata": {
    "id": "IXbfpfOzQlDF"
   },
   "outputs": [],
   "source": [
    "# Hidden layers\n",
    "model1.add(tf.keras.layers.Dense(200, activation='relu'))\n",
    "model1.add(tf.keras.layers.Dense(100, activation='relu'))\n",
    "\n",
    "#Dropout layer - to get rid of the noise \n",
    "# 25% of the neurons will be deactivated in the last hidden layer so that model learns on signal and not the noise\n",
    "model1.add(tf.keras.layers.Dropout(0.25))"
   ]
  },
  {
   "cell_type": "markdown",
   "metadata": {
    "id": "5I8f5otcQlDJ"
   },
   "source": [
    "### Add the output layer with a fully connected layer with 10 neurons with `softmax` activation. Use `categorical_crossentropy` loss and `adam` optimizer and train the network. And, report the final validation."
   ]
  },
  {
   "cell_type": "code",
   "execution_count": 82,
   "metadata": {
    "colab": {
     "base_uri": "https://localhost:8080/"
    },
    "id": "uP39mrYT6fya",
    "outputId": "2d14d7a1-d5ca-43b0-a58a-ea321359b743"
   },
   "outputs": [
    {
     "name": "stdout",
     "output_type": "stream",
     "text": [
      "Epoch 1/15\n",
      "1875/1875 [==============================] - 8s 4ms/step - loss: 0.5142 - accuracy: 0.8154 - val_loss: 0.4050 - val_accuracy: 0.8526\n",
      "Epoch 2/15\n",
      "1875/1875 [==============================] - 7s 4ms/step - loss: 0.3960 - accuracy: 0.8555 - val_loss: 0.3821 - val_accuracy: 0.8583\n",
      "Epoch 3/15\n",
      "1875/1875 [==============================] - 7s 4ms/step - loss: 0.3608 - accuracy: 0.8670 - val_loss: 0.3944 - val_accuracy: 0.8567\n",
      "Epoch 4/15\n",
      "1875/1875 [==============================] - 7s 4ms/step - loss: 0.3360 - accuracy: 0.8754 - val_loss: 0.3702 - val_accuracy: 0.8717\n",
      "Epoch 5/15\n",
      "1875/1875 [==============================] - 7s 4ms/step - loss: 0.3165 - accuracy: 0.8824 - val_loss: 0.3682 - val_accuracy: 0.8737\n",
      "Epoch 6/15\n",
      "1875/1875 [==============================] - 7s 4ms/step - loss: 0.3014 - accuracy: 0.8887 - val_loss: 0.3469 - val_accuracy: 0.8799\n",
      "Epoch 7/15\n",
      "1875/1875 [==============================] - 7s 4ms/step - loss: 0.2873 - accuracy: 0.8934 - val_loss: 0.3655 - val_accuracy: 0.8808\n",
      "Epoch 8/15\n",
      "1875/1875 [==============================] - 7s 4ms/step - loss: 0.2726 - accuracy: 0.8966 - val_loss: 0.3806 - val_accuracy: 0.8839\n",
      "Epoch 9/15\n",
      "1875/1875 [==============================] - 7s 4ms/step - loss: 0.2631 - accuracy: 0.9001 - val_loss: 0.3477 - val_accuracy: 0.8864\n",
      "Epoch 10/15\n",
      "1875/1875 [==============================] - 7s 4ms/step - loss: 0.2572 - accuracy: 0.9033 - val_loss: 0.3890 - val_accuracy: 0.8851\n",
      "Epoch 11/15\n",
      "1875/1875 [==============================] - 7s 4ms/step - loss: 0.2461 - accuracy: 0.9073 - val_loss: 0.4011 - val_accuracy: 0.8835\n",
      "Epoch 12/15\n",
      "1875/1875 [==============================] - 7s 4ms/step - loss: 0.2393 - accuracy: 0.9089 - val_loss: 0.3906 - val_accuracy: 0.8847\n",
      "Epoch 13/15\n",
      "1875/1875 [==============================] - 8s 4ms/step - loss: 0.2350 - accuracy: 0.9100 - val_loss: 0.3598 - val_accuracy: 0.8868\n",
      "Epoch 14/15\n",
      "1875/1875 [==============================] - 7s 4ms/step - loss: 0.2266 - accuracy: 0.9140 - val_loss: 0.3889 - val_accuracy: 0.8914\n",
      "Epoch 15/15\n",
      "1875/1875 [==============================] - 7s 4ms/step - loss: 0.2200 - accuracy: 0.9162 - val_loss: 0.3703 - val_accuracy: 0.8850\n"
     ]
    },
    {
     "data": {
      "text/plain": [
       "<tensorflow.python.keras.callbacks.History at 0x7f938fa80dd8>"
      ]
     },
     "execution_count": 82,
     "metadata": {
      "tags": []
     },
     "output_type": "execute_result"
    }
   ],
   "source": [
    "model1.add(tf.keras.layers.Dense(10, activation='softmax'))\n",
    "model1.compile(optimizer='adam', loss='categorical_crossentropy', metrics=['accuracy'])\n",
    "model1.fit(train_x, train_y, batch_size=32, epochs=15, validation_data=(test_x, test_y))"
   ]
  },
  {
   "cell_type": "code",
   "execution_count": 84,
   "metadata": {
    "colab": {
     "base_uri": "https://localhost:8080/"
    },
    "id": "JZkvKymSd0Sr",
    "outputId": "26069641-8960-4165-d101-b7f43a1739a1"
   },
   "outputs": [
    {
     "name": "stdout",
     "output_type": "stream",
     "text": [
      "313/313 [==============================] - 0s 1ms/step - loss: 0.3703 - accuracy: 0.8850\n"
     ]
    },
    {
     "data": {
      "text/plain": [
       "[0.3703123927116394, 0.8849999904632568]"
      ]
     },
     "execution_count": 84,
     "metadata": {
      "tags": []
     },
     "output_type": "execute_result"
    }
   ],
   "source": [
    "model1.evaluate(test_x, test_y)"
   ]
  }
 ],
 "metadata": {
  "colab": {
   "collapsed_sections": [],
   "name": "Questions - Lab on NNDL.ipynb",
   "provenance": [],
   "toc_visible": true
  },
  "kernelspec": {
   "display_name": "Python 3",
   "language": "python",
   "name": "python3"
  },
  "language_info": {
   "codemirror_mode": {
    "name": "ipython",
    "version": 3
   },
   "file_extension": ".py",
   "mimetype": "text/x-python",
   "name": "python",
   "nbconvert_exporter": "python",
   "pygments_lexer": "ipython3",
   "version": "3.7.6"
  }
 },
 "nbformat": 4,
 "nbformat_minor": 1
}
